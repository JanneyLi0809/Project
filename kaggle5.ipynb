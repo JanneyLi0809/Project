{
 "cells": [
  {
   "cell_type": "code",
   "execution_count": 1,
   "metadata": {},
   "outputs": [],
   "source": [
    "# 导入所需的package\n",
    "import seaborn as sns #用于画图\n",
    "from bs4 import BeautifulSoup #用于爬取arxiv的数据\n",
    "import re #用于正则表达式，匹配字符串的模式\n",
    "import requests #用于网络连接，发送网络请求，使用域名获取对应信息\n",
    "import json #读取数据，我们的数据为json格式的\n",
    "import pandas as pd #数据处理，数据分析\n",
    "import matplotlib.pyplot as plt #画图工具"
   ]
  },
  {
   "cell_type": "code",
   "execution_count": 2,
   "metadata": {},
   "outputs": [],
   "source": [
    "def readArxivFile(path, columns=['id', 'submitter', 'authors', 'title', 'comments', 'journal-ref', 'doi',\n",
    "       'report-no', 'categories', 'license', 'abstract', 'versions',\n",
    "       'update_date', 'authors_parsed'], count=None):\n",
    "    '''\n",
    "    定义读取文件的函数\n",
    "        path: 文件路径\n",
    "        columns: 需要选择的列\n",
    "        count: 读取行数\n",
    "    '''\n",
    "    \n",
    "    data  = []\n",
    "    with open(path, 'r') as f: \n",
    "        for idx, line in enumerate(f): \n",
    "            if idx == count:\n",
    "                break\n",
    "                \n",
    "            d = json.loads(line)\n",
    "            d = {col : d[col] for col in columns}\n",
    "            data.append(d)\n",
    "\n",
    "    data = pd.DataFrame(data)\n",
    "    return data\n",
    "\n",
    "data = readArxivFile('arxiv-metadata-oai-snapshot.json', \n",
    "                     ['id', 'authors','authors_parsed','update_date','categories'])"
   ]
  },
  {
   "cell_type": "code",
   "execution_count": 3,
   "metadata": {},
   "outputs": [],
   "source": [
    "data[\"year\"] = pd.to_datetime(data[\"update_date\"]).dt.year #将update_date从例如2019-02-20的str变为datetime格式，并提取处year\n",
    "del data[\"update_date\"] #删除 update_date特征，\n",
    "data = data[data[\"year\"] >= 2019] #找出 year 中2019年以后的数据，并将其他数据删除"
   ]
  },
  {
   "cell_type": "code",
   "execution_count": 4,
   "metadata": {},
   "outputs": [
    {
     "data": {
      "text/html": [
       "<div>\n",
       "<style scoped>\n",
       "    .dataframe tbody tr th:only-of-type {\n",
       "        vertical-align: middle;\n",
       "    }\n",
       "\n",
       "    .dataframe tbody tr th {\n",
       "        vertical-align: top;\n",
       "    }\n",
       "\n",
       "    .dataframe thead th {\n",
       "        text-align: right;\n",
       "    }\n",
       "</style>\n",
       "<table border=\"1\" class=\"dataframe\">\n",
       "  <thead>\n",
       "    <tr style=\"text-align: right;\">\n",
       "      <th></th>\n",
       "      <th>authors</th>\n",
       "      <th>authors_parsed</th>\n",
       "      <th>categories</th>\n",
       "      <th>id</th>\n",
       "      <th>year</th>\n",
       "    </tr>\n",
       "  </thead>\n",
       "  <tbody>\n",
       "    <tr>\n",
       "      <th>296</th>\n",
       "      <td>Sung-Chul Yoon, Philipp Podsiadlowski and Step...</td>\n",
       "      <td>[[Yoon, Sung-Chul, ], [Podsiadlowski, Philipp,...</td>\n",
       "      <td>astro-ph</td>\n",
       "      <td>0704.0297</td>\n",
       "      <td>2019</td>\n",
       "    </tr>\n",
       "    <tr>\n",
       "      <th>341</th>\n",
       "      <td>B. Dugmore and PP. Ntumba</td>\n",
       "      <td>[[Dugmore, B., ], [Ntumba, PP., ]]</td>\n",
       "      <td>math.AT</td>\n",
       "      <td>0704.0342</td>\n",
       "      <td>2019</td>\n",
       "    </tr>\n",
       "    <tr>\n",
       "      <th>359</th>\n",
       "      <td>T.V. Zaqarashvili and K Murawski</td>\n",
       "      <td>[[Zaqarashvili, T. V., ], [Murawski, K, ]]</td>\n",
       "      <td>astro-ph</td>\n",
       "      <td>0704.0360</td>\n",
       "      <td>2019</td>\n",
       "    </tr>\n",
       "    <tr>\n",
       "      <th>524</th>\n",
       "      <td>Sezgin Aygun, Ismail Tarhan, Husnu Baysal</td>\n",
       "      <td>[[Aygun, Sezgin, ], [Tarhan, Ismail, ], [Baysa...</td>\n",
       "      <td>gr-qc</td>\n",
       "      <td>0704.0525</td>\n",
       "      <td>2019</td>\n",
       "    </tr>\n",
       "    <tr>\n",
       "      <th>534</th>\n",
       "      <td>Antonio Pipino (1,3), Thomas H. Puzia (2,4), a...</td>\n",
       "      <td>[[Pipino, Antonio, ], [Puzia, Thomas H., ], [M...</td>\n",
       "      <td>astro-ph</td>\n",
       "      <td>0704.0535</td>\n",
       "      <td>2019</td>\n",
       "    </tr>\n",
       "  </tbody>\n",
       "</table>\n",
       "</div>"
      ],
      "text/plain": [
       "                                               authors  \\\n",
       "296  Sung-Chul Yoon, Philipp Podsiadlowski and Step...   \n",
       "341                          B. Dugmore and PP. Ntumba   \n",
       "359                   T.V. Zaqarashvili and K Murawski   \n",
       "524          Sezgin Aygun, Ismail Tarhan, Husnu Baysal   \n",
       "534  Antonio Pipino (1,3), Thomas H. Puzia (2,4), a...   \n",
       "\n",
       "                                        authors_parsed categories         id  \\\n",
       "296  [[Yoon, Sung-Chul, ], [Podsiadlowski, Philipp,...   astro-ph  0704.0297   \n",
       "341                 [[Dugmore, B., ], [Ntumba, PP., ]]    math.AT  0704.0342   \n",
       "359         [[Zaqarashvili, T. V., ], [Murawski, K, ]]   astro-ph  0704.0360   \n",
       "524  [[Aygun, Sezgin, ], [Tarhan, Ismail, ], [Baysa...      gr-qc  0704.0525   \n",
       "534  [[Pipino, Antonio, ], [Puzia, Thomas H., ], [M...   astro-ph  0704.0535   \n",
       "\n",
       "     year  \n",
       "296  2019  \n",
       "341  2019  \n",
       "359  2019  \n",
       "524  2019  \n",
       "534  2019  "
      ]
     },
     "execution_count": 4,
     "metadata": {},
     "output_type": "execute_result"
    }
   ],
   "source": [
    "\n",
    "data.head()"
   ]
  },
  {
   "cell_type": "code",
   "execution_count": 5,
   "metadata": {},
   "outputs": [],
   "source": [
    "\n",
    "data = data[data['categories'].apply(lambda x : 'cs.CV' in x)] # 选择类别为cs.CV下面的论文"
   ]
  },
  {
   "cell_type": "code",
   "execution_count": 6,
   "metadata": {},
   "outputs": [
    {
     "data": {
      "text/html": [
       "<div>\n",
       "<style scoped>\n",
       "    .dataframe tbody tr th:only-of-type {\n",
       "        vertical-align: middle;\n",
       "    }\n",
       "\n",
       "    .dataframe tbody tr th {\n",
       "        vertical-align: top;\n",
       "    }\n",
       "\n",
       "    .dataframe thead th {\n",
       "        text-align: right;\n",
       "    }\n",
       "</style>\n",
       "<table border=\"1\" class=\"dataframe\">\n",
       "  <thead>\n",
       "    <tr style=\"text-align: right;\">\n",
       "      <th></th>\n",
       "      <th>authors</th>\n",
       "      <th>authors_parsed</th>\n",
       "      <th>categories</th>\n",
       "      <th>id</th>\n",
       "      <th>year</th>\n",
       "    </tr>\n",
       "  </thead>\n",
       "  <tbody>\n",
       "    <tr>\n",
       "      <th>48709</th>\n",
       "      <td>Mahesh Pal</td>\n",
       "      <td>[[Pal, Mahesh, ]]</td>\n",
       "      <td>cs.NE cs.CV</td>\n",
       "      <td>0802.1412</td>\n",
       "      <td>2019</td>\n",
       "    </tr>\n",
       "    <tr>\n",
       "      <th>122831</th>\n",
       "      <td>Serguei A. Mokhov, Stephen Sinclair, Ian Cl\\'e...</td>\n",
       "      <td>[[Mokhov, Serguei A., , for the MARF R&amp;D Group...</td>\n",
       "      <td>cs.SD cs.CL cs.CV cs.MM cs.NE</td>\n",
       "      <td>0905.1235</td>\n",
       "      <td>2019</td>\n",
       "    </tr>\n",
       "    <tr>\n",
       "      <th>274867</th>\n",
       "      <td>Chris Aholt, Bernd Sturmfels, Rekha Thomas</td>\n",
       "      <td>[[Aholt, Chris, ], [Sturmfels, Bernd, ], [Thom...</td>\n",
       "      <td>math.AG cs.CV</td>\n",
       "      <td>1107.2875</td>\n",
       "      <td>2019</td>\n",
       "    </tr>\n",
       "    <tr>\n",
       "      <th>288218</th>\n",
       "      <td>Dae-Woong Lee</td>\n",
       "      <td>[[Lee, Dae-Woong, ]]</td>\n",
       "      <td>cs.CV</td>\n",
       "      <td>1109.3850</td>\n",
       "      <td>2020</td>\n",
       "    </tr>\n",
       "    <tr>\n",
       "      <th>292514</th>\n",
       "      <td>Aman Chadha, Divya Jyoti, M. Mani Roja</td>\n",
       "      <td>[[Chadha, Aman, ], [Jyoti, Divya, ], [Roja, M....</td>\n",
       "      <td>cs.CV cs.CR cs.IT cs.MM eess.IV math.IT</td>\n",
       "      <td>1110.1208</td>\n",
       "      <td>2020</td>\n",
       "    </tr>\n",
       "  </tbody>\n",
       "</table>\n",
       "</div>"
      ],
      "text/plain": [
       "                                                  authors  \\\n",
       "48709                                          Mahesh Pal   \n",
       "122831  Serguei A. Mokhov, Stephen Sinclair, Ian Cl\\'e...   \n",
       "274867         Chris Aholt, Bernd Sturmfels, Rekha Thomas   \n",
       "288218                                      Dae-Woong Lee   \n",
       "292514             Aman Chadha, Divya Jyoti, M. Mani Roja   \n",
       "\n",
       "                                           authors_parsed  \\\n",
       "48709                                   [[Pal, Mahesh, ]]   \n",
       "122831  [[Mokhov, Serguei A., , for the MARF R&D Group...   \n",
       "274867  [[Aholt, Chris, ], [Sturmfels, Bernd, ], [Thom...   \n",
       "288218                               [[Lee, Dae-Woong, ]]   \n",
       "292514  [[Chadha, Aman, ], [Jyoti, Divya, ], [Roja, M....   \n",
       "\n",
       "                                     categories         id  year  \n",
       "48709                               cs.NE cs.CV  0802.1412  2019  \n",
       "122831            cs.SD cs.CL cs.CV cs.MM cs.NE  0905.1235  2019  \n",
       "274867                            math.AG cs.CV  1107.2875  2019  \n",
       "288218                                    cs.CV  1109.3850  2020  \n",
       "292514  cs.CV cs.CR cs.IT cs.MM eess.IV math.IT  1110.1208  2020  "
      ]
     },
     "execution_count": 6,
     "metadata": {},
     "output_type": "execute_result"
    }
   ],
   "source": [
    "\n",
    "data.head()"
   ]
  },
  {
   "cell_type": "code",
   "execution_count": 7,
   "metadata": {},
   "outputs": [
    {
     "data": {
      "text/plain": [
       "<Figure size 720x432 with 0 Axes>"
      ]
     },
     "metadata": {},
     "output_type": "display_data"
    }
   ],
   "source": [
    "import networkx as nx \n",
    "# 创建无向图\n",
    "plt.figure(figsize=(10, 6))\n",
    "G = nx.Graph()\n",
    "# 只用五篇论文进行构建\n",
    "for row in data.iloc[:5].itertuples():\n",
    "  authors = row[3]\n",
    "  authors = [' '.join(x[:-1]) for x in authors]\n",
    "  # 第一个作者 与 其他作者链接\n",
    "  for author in authors[1:]:\n",
    "    G.add_edge(authors[0],author) #　添加节点２，３并链接２３节点"
   ]
  },
  {
   "cell_type": "code",
   "execution_count": 8,
   "metadata": {},
   "outputs": [
    {
     "name": "stderr",
     "output_type": "stream",
     "text": [
      "C:\\Users\\60381\\Anaconda3\\lib\\site-packages\\networkx\\drawing\\nx_pylab.py:579: MatplotlibDeprecationWarning: \n",
      "The iterable function was deprecated in Matplotlib 3.1 and will be removed in 3.3. Use np.iterable instead.\n",
      "  if not cb.iterable(width):\n"
     ]
    },
    {
     "data": {
      "image/png": "[encoded data removed]",
      "text/plain": [
       "<Figure size 432x288 with 1 Axes>"
      ]
     },
     "metadata": {},
     "output_type": "display_data"
    }
   ],
   "source": [
    "\n",
    "# 将作者关系图进行绘制：\n",
    "nx.draw(G, with_labels=True)"
   ]
  },
  {
   "cell_type": "code",
   "execution_count": 9,
   "metadata": {},
   "outputs": [
    {
     "name": "stdout",
     "output_type": "stream",
     "text": [
      "No path\n"
     ]
    }
   ],
   "source": [
    "try:\n",
    "    print(nx.dijkstra_path(G, 'Chadha Aman', 'Jyoti Divya'))  # 求最短路径\n",
    "except:\n",
    "    print('No path')"
   ]
  },
  {
   "cell_type": "code",
   "execution_count": 10,
   "metadata": {},
   "outputs": [
    {
     "name": "stdout",
     "output_type": "stream",
     "text": [
      "No path\n"
     ]
    }
   ],
   "source": [
    "try:\n",
    "    print(nx.dijkstra_path(G, 'Roja M. Mani', 'Jyoti Divya'))  # 求最短路径\n",
    "except:\n",
    "    print('No path')"
   ]
  },
  {
   "cell_type": "code",
   "execution_count": 11,
   "metadata": {},
   "outputs": [],
   "source": [
    "G1 = nx.Graph()\n",
    "\n",
    "for row in data.iloc[:1000].itertuples():\n",
    "    authors = row[3]\n",
    "    authors = [' '.join(x[:-1]) for x in authors]\n",
    "    \n",
    "    # 第一个作者 与 其他作者链接\n",
    "    for author in authors[1:]:\n",
    "        G1.add_edge(authors[0],author) #　添加节点２，３并链接２３节点"
   ]
  },
  {
   "cell_type": "code",
   "execution_count": 12,
   "metadata": {},
   "outputs": [
    {
     "name": "stdout",
     "output_type": "stream",
     "text": [
      " : 2\n"
     ]
    }
   ],
   "source": [
    "num_sorted = sorted(dict(G1.degree()).items(),key=lambda x :x[1],reverse=True)\n",
    "for i,(name,num) in enumerate(num_sorted):\n",
    "    if i <3:\n",
    "        print(name,':',num)"
   ]
  },
  {
   "cell_type": "code",
   "execution_count": 13,
   "metadata": {},
   "outputs": [],
   "source": [
    "def func(x):\n",
    "    strs = ''\n",
    "    for i in x:\n",
    "        name = ' '.join(i)\n",
    "        strs += name+','\n",
    "    return strs"
   ]
  },
  {
   "cell_type": "code",
   "execution_count": 14,
   "metadata": {},
   "outputs": [],
   "source": [
    "data_liu = data['authors_parsed'].iloc[:1000].apply(func = func)"
   ]
  },
  {
   "cell_type": "code",
   "execution_count": 15,
   "metadata": {},
   "outputs": [],
   "source": [
    "\n",
    "data_liu = data_liu[data_liu.str.contains('Liu Yun')]"
   ]
  },
  {
   "cell_type": "code",
   "execution_count": 16,
   "metadata": {},
   "outputs": [
    {
     "data": {
      "image/png": "[encoded data removed]",
      "text/plain": [
       "<Figure size 432x288 with 1 Axes>"
      ]
     },
     "metadata": {},
     "output_type": "display_data"
    }
   ],
   "source": [
    "# 创建无向图\n",
    "import networkx as nx\n",
    "G2 = nx.Graph()\n",
    "\n",
    "# 只用五篇论文进行构建\n",
    "for row in data_liu.to_frame().itertuples():\n",
    "    authors = row[1]\n",
    "    authors = authors.split(',')\n",
    "    \n",
    "    # 第一个作者 与 其他作者链接\n",
    "    for author in authors[1:]:\n",
    "        G2.add_edge(authors[0],author) #　添加节点２，３并链接２３节点\n",
    "nx.draw(G2,with_labels=True)"
   ]
  },
  {
   "cell_type": "code",
   "execution_count": 17,
   "metadata": {},
   "outputs": [
    {
     "name": "stderr",
     "output_type": "stream",
     "text": [
      "C:\\Users\\60381\\Anaconda3\\lib\\site-packages\\ipykernel_launcher.py:5: UserWarning: Data has no positive values, and therefore cannot be log-scaled.\n",
      "  \"\"\"\n"
     ]
    },
    {
     "data": {
      "image/png": "[encoded data removed]",
      "text/plain": [
       "<Figure size 720x432 with 2 Axes>"
      ]
     },
     "metadata": {
      "needs_background": "light"
     },
     "output_type": "display_data"
    }
   ],
   "source": [
    "\n",
    "degree_sequence = sorted([d for n, d in G1.degree()], reverse=True)  # 节点度是与节点相邻的边数。\n",
    "dmax = max(degree_sequence)\n",
    "\n",
    "plt.figure(figsize=(10, 6))\n",
    "plt.loglog(degree_sequence, \"r-\", marker=\"o\") # 对数图\n",
    "plt.title(\"Degree rank plot\")\n",
    "plt.ylabel(\"degree\")\n",
    "plt.xlabel(\"rank\")\n",
    "\n",
    "# draw graph in inset\n",
    "plt.axes([0.45, 0.45, 0.45, 0.45])\n",
    "Gcc = G1.subgraph(sorted(nx.connected_components(G1), key=len, reverse=True)[0]) ## G中相连组件最多的图\n",
    "\n",
    "pos = nx.spring_layout(Gcc)\n",
    "plt.axis(\"off\")\n",
    "nx.draw_networkx_nodes(Gcc, pos, node_size=20)\n",
    "nx.draw_networkx_edges(Gcc, pos, alpha=0.4)\n",
    "plt.show()"
   ]
  },
  {
   "cell_type": "code",
   "execution_count": 18,
   "metadata": {},
   "outputs": [
    {
     "ename": "IndexError",
     "evalue": "list index out of range",
     "output_type": "error",
     "traceback": [
      "\u001b[1;31m---------------------------------------------------------------------------\u001b[0m",
      "\u001b[1;31mIndexError\u001b[0m                                Traceback (most recent call last)",
      "\u001b[1;32m<ipython-input-18-0155516ecad1>\u001b[0m in \u001b[0;36m<module>\u001b[1;34m\u001b[0m\n\u001b[0;32m      1\u001b[0m \u001b[0mplt\u001b[0m\u001b[1;33m.\u001b[0m\u001b[0mfigure\u001b[0m\u001b[1;33m(\u001b[0m\u001b[0mfigsize\u001b[0m\u001b[1;33m=\u001b[0m\u001b[1;33m(\u001b[0m\u001b[1;36m20\u001b[0m\u001b[1;33m,\u001b[0m \u001b[1;36m14\u001b[0m\u001b[1;33m)\u001b[0m\u001b[1;33m)\u001b[0m\u001b[1;33m\u001b[0m\u001b[1;33m\u001b[0m\u001b[0m\n\u001b[0;32m      2\u001b[0m \u001b[0mplt\u001b[0m\u001b[1;33m.\u001b[0m\u001b[0maxes\u001b[0m\u001b[1;33m(\u001b[0m\u001b[1;33m[\u001b[0m\u001b[1;36m0.45\u001b[0m\u001b[1;33m,\u001b[0m \u001b[1;36m0.45\u001b[0m\u001b[1;33m,\u001b[0m \u001b[1;36m0.45\u001b[0m\u001b[1;33m,\u001b[0m \u001b[1;36m0.45\u001b[0m\u001b[1;33m]\u001b[0m\u001b[1;33m)\u001b[0m\u001b[1;33m\u001b[0m\u001b[1;33m\u001b[0m\u001b[0m\n\u001b[1;32m----> 3\u001b[1;33m \u001b[0mGcc\u001b[0m \u001b[1;33m=\u001b[0m \u001b[0mG1\u001b[0m\u001b[1;33m.\u001b[0m\u001b[0msubgraph\u001b[0m\u001b[1;33m(\u001b[0m\u001b[0msorted\u001b[0m\u001b[1;33m(\u001b[0m\u001b[0mnx\u001b[0m\u001b[1;33m.\u001b[0m\u001b[0mconnected_components\u001b[0m\u001b[1;33m(\u001b[0m\u001b[0mG1\u001b[0m\u001b[1;33m)\u001b[0m\u001b[1;33m,\u001b[0m \u001b[0mkey\u001b[0m\u001b[1;33m=\u001b[0m\u001b[0mlen\u001b[0m\u001b[1;33m,\u001b[0m \u001b[0mreverse\u001b[0m\u001b[1;33m=\u001b[0m\u001b[1;32mTrue\u001b[0m\u001b[1;33m)\u001b[0m\u001b[1;33m[\u001b[0m\u001b[1;36m1\u001b[0m\u001b[1;33m]\u001b[0m\u001b[1;33m)\u001b[0m\u001b[1;33m\u001b[0m\u001b[1;33m\u001b[0m\u001b[0m\n\u001b[0m\u001b[0;32m      4\u001b[0m \u001b[1;33m\u001b[0m\u001b[0m\n\u001b[0;32m      5\u001b[0m \u001b[0mpos\u001b[0m \u001b[1;33m=\u001b[0m \u001b[0mnx\u001b[0m\u001b[1;33m.\u001b[0m\u001b[0mspring_layout\u001b[0m\u001b[1;33m(\u001b[0m\u001b[0mGcc\u001b[0m\u001b[1;33m)\u001b[0m\u001b[1;33m\u001b[0m\u001b[1;33m\u001b[0m\u001b[0m\n",
      "\u001b[1;31mIndexError\u001b[0m: list index out of range"
     ]
    },
    {
     "data": {
      "image/png": "[encoded data removed]",
      "text/plain": [
       "<Figure size 1440x1008 with 1 Axes>"
      ]
     },
     "metadata": {
      "needs_background": "light"
     },
     "output_type": "display_data"
    }
   ],
   "source": [
    "plt.figure(figsize=(20, 14))\n",
    "plt.axes([0.45, 0.45, 0.45, 0.45])\n",
    "Gcc = G1.subgraph(sorted(nx.connected_components(G1), key=len, reverse=True)[1]) \n",
    "\n",
    "pos = nx.spring_layout(Gcc)\n",
    "plt.axis(\"off\")\n",
    "nx.draw_networkx_nodes(Gcc, pos, node_size=20)\n",
    "nx.draw_networkx_edges(Gcc, pos, alpha=0.4)\n",
    "plt.show()"
   ]
  },
  {
   "cell_type": "code",
   "execution_count": null,
   "metadata": {},
   "outputs": [],
   "source": []
  }
 ],
 "metadata": {
  "kernelspec": {
   "display_name": "Python 3",
   "language": "python",
   "name": "python3"
  },
  "language_info": {
   "codemirror_mode": {
    "name": "ipython",
    "version": 3
   },
   "file_extension": ".py",
   "mimetype": "text/x-python",
   "name": "python",
   "nbconvert_exporter": "python",
   "pygments_lexer": "ipython3",
   "version": "3.7.4"
  }
 },
 "nbformat": 4,
 "nbformat_minor": 2
}
